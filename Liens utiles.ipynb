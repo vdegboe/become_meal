{
 "cells": [
  {
   "cell_type": "markdown",
   "metadata": {Auteur:DEGBOE Viwossin},
   "source": [
    "# Cours de base à suivre et obtenir les certificats pour aborder le suivi-évaluation: \n",
    "\n",
    "## Éléments fondamentaux M & E\n",
    ">https://www.globalhealthlearning.org/fr/course/m-e-fundamentals\n",
    "\n",
    "## Qualité des données\n",
    ">https://www.globalhealthlearning.org/fr/course/data-quality\n",
    "\n",
    "## M&E de genre\n",
    ">https://www.globalhealthlearning.org/fr/course/gender-m-e\n",
    "\n",
    "## Utilisation des données pour les gestionnaires de programmes\n",
    ">https://www.globalhealthlearning.org/fr/course/data-use-program-managers\n",
    "\n",
    "## Gestion des connaissances \n",
    ">https://www.globalhealthlearning.org/fr/course/knowledge-management-km-global-health-programs\n",
    "\n",
    "## Fondements de l'évaluation économique\n",
    ">https://www.globalhealthlearning.org/fr/course/economic-evaluation-basics\n",
    "\n",
    "## Fondamentaux de DHIS2: \n",
    ">https://dhis2.org/fr/academy/fundamentals/"
   ]
  }
 ],
 "metadata": {
  "language_info": {
   "name": "python"
  },
  "orig_nbformat": 4
 },
 "nbformat": 4,
 "nbformat_minor": 2
}
